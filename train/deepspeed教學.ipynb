{
 "cells": [
  {
   "cell_type": "markdown",
   "metadata": {},
   "source": [
    "## Install torch and DeepSpeed\n",
    "CUDA > 11+ <br>\n",
    "torch CUDA版本建議和 系統CUDA版本相同 不要相差超過一個大版本"
   ]
  },
  {
   "cell_type": "code",
   "execution_count": 1,
   "metadata": {},
   "outputs": [
    {
     "name": "stdout",
     "output_type": "stream",
     "text": [
      "nvcc: NVIDIA (R) Cuda compiler driver\n",
      "Copyright (c) 2005-2023 NVIDIA Corporation\n",
      "Built on Fri_Sep__8_19:17:24_PDT_2023\n",
      "Cuda compilation tools, release 12.3, V12.3.52\n",
      "Build cuda_12.3.r12.3/compiler.33281558_0\n",
      "Thu Jun 27 00:37:04 2024       \n",
      "+---------------------------------------------------------------------------------------+\n",
      "| NVIDIA-SMI 545.29.06              Driver Version: 545.29.06    CUDA Version: 12.3     |\n",
      "|-----------------------------------------+----------------------+----------------------+\n",
      "| GPU  Name                 Persistence-M | Bus-Id        Disp.A | Volatile Uncorr. ECC |\n",
      "| Fan  Temp   Perf          Pwr:Usage/Cap |         Memory-Usage | GPU-Util  Compute M. |\n",
      "|                                         |                      |               MIG M. |\n",
      "|=========================================+======================+======================|\n",
      "|   0  NVIDIA GeForce RTX 3090        Off | 00000000:01:00.0  On |                  N/A |\n",
      "|  0%   37C    P8              44W / 370W |    237MiB / 24576MiB |      0%      Default |\n",
      "|                                         |                      |                  N/A |\n",
      "+-----------------------------------------+----------------------+----------------------+\n",
      "|   1  NVIDIA GeForce RTX 4090        Off | 00000000:02:00.0 Off |                  Off |\n",
      "|  0%   30C    P8              15W / 450W |  12240MiB / 24564MiB |      0%      Default |\n",
      "|                                         |                      |                  N/A |\n",
      "+-----------------------------------------+----------------------+----------------------+\n",
      "                                                                                         \n",
      "+---------------------------------------------------------------------------------------+\n",
      "| Processes:                                                                            |\n",
      "|  GPU   GI   CI        PID   Type   Process name                            GPU Memory |\n",
      "|        ID   ID                                                             Usage      |\n",
      "|=======================================================================================|\n",
      "|    0   N/A  N/A      1882      G   /usr/lib/xorg/Xorg                           99MiB |\n",
      "|    0   N/A  N/A      2057      G   /usr/bin/gnome-shell                         73MiB |\n",
      "|    0   N/A  N/A      2957      G   ...ures=SpareRendererForSitePerProcess       48MiB |\n",
      "|    1   N/A  N/A      1882      G   /usr/lib/xorg/Xorg                            4MiB |\n",
      "|    1   N/A  N/A    492035      C   python                                    12220MiB |\n",
      "+---------------------------------------------------------------------------------------+\n"
     ]
    }
   ],
   "source": [
    "!nvcc -V\n",
    "!nvidia-smi"
   ]
  },
  {
   "cell_type": "markdown",
   "metadata": {},
   "source": [
    "CUDA 11.8"
   ]
  },
  {
   "cell_type": "code",
   "execution_count": null,
   "metadata": {},
   "outputs": [],
   "source": [
    "# %pip install torch torchvision torchaudio --index-url https://download.pytorch.org/whl/cu121"
   ]
  },
  {
   "cell_type": "markdown",
   "metadata": {},
   "source": [
    "CUDA 12.1"
   ]
  },
  {
   "cell_type": "code",
   "execution_count": 2,
   "metadata": {},
   "outputs": [],
   "source": [
    "%pip install torch torchvision torchaudio --index-url https://download.pytorch.org/whl/cu121"
   ]
  },
  {
   "cell_type": "code",
   "execution_count": 4,
   "metadata": {},
   "outputs": [
    {
     "name": "stdout",
     "output_type": "stream",
     "text": [
      "Requirement already satisfied: deepspeed in /home/ailab/miniconda3/envs/deepspeed-allen/lib/python3.9/site-packages (0.14.3)\n",
      "Requirement already satisfied: hjson in /home/ailab/miniconda3/envs/deepspeed-allen/lib/python3.9/site-packages (from deepspeed) (3.1.0)\n",
      "Requirement already satisfied: ninja in /home/ailab/miniconda3/envs/deepspeed-allen/lib/python3.9/site-packages (from deepspeed) (1.11.1.1)\n",
      "Requirement already satisfied: numpy in /home/ailab/miniconda3/envs/deepspeed-allen/lib/python3.9/site-packages (from deepspeed) (1.26.4)\n",
      "Requirement already satisfied: nvidia-ml-py in /home/ailab/miniconda3/envs/deepspeed-allen/lib/python3.9/site-packages (from deepspeed) (12.555.43)\n",
      "Requirement already satisfied: packaging>=20.0 in /home/ailab/miniconda3/envs/deepspeed-allen/lib/python3.9/site-packages (from deepspeed) (24.1)\n",
      "Requirement already satisfied: psutil in /home/ailab/miniconda3/envs/deepspeed-allen/lib/python3.9/site-packages (from deepspeed) (5.9.8)\n",
      "Requirement already satisfied: py-cpuinfo in /home/ailab/miniconda3/envs/deepspeed-allen/lib/python3.9/site-packages (from deepspeed) (9.0.0)\n",
      "Requirement already satisfied: pydantic in /home/ailab/miniconda3/envs/deepspeed-allen/lib/python3.9/site-packages (from deepspeed) (2.7.4)\n",
      "Requirement already satisfied: torch in /home/ailab/miniconda3/envs/deepspeed-allen/lib/python3.9/site-packages (from deepspeed) (2.3.1)\n",
      "Requirement already satisfied: tqdm in /home/ailab/miniconda3/envs/deepspeed-allen/lib/python3.9/site-packages (from deepspeed) (4.66.4)\n",
      "Requirement already satisfied: annotated-types>=0.4.0 in /home/ailab/miniconda3/envs/deepspeed-allen/lib/python3.9/site-packages (from pydantic->deepspeed) (0.7.0)\n",
      "Requirement already satisfied: pydantic-core==2.18.4 in /home/ailab/miniconda3/envs/deepspeed-allen/lib/python3.9/site-packages (from pydantic->deepspeed) (2.18.4)\n",
      "Requirement already satisfied: typing-extensions>=4.6.1 in /home/ailab/miniconda3/envs/deepspeed-allen/lib/python3.9/site-packages (from pydantic->deepspeed) (4.11.0)\n",
      "Requirement already satisfied: filelock in /home/ailab/miniconda3/envs/deepspeed-allen/lib/python3.9/site-packages (from torch->deepspeed) (3.13.1)\n",
      "Requirement already satisfied: sympy in /home/ailab/miniconda3/envs/deepspeed-allen/lib/python3.9/site-packages (from torch->deepspeed) (1.12)\n",
      "Requirement already satisfied: networkx in /home/ailab/miniconda3/envs/deepspeed-allen/lib/python3.9/site-packages (from torch->deepspeed) (3.2.1)\n",
      "Requirement already satisfied: jinja2 in /home/ailab/miniconda3/envs/deepspeed-allen/lib/python3.9/site-packages (from torch->deepspeed) (3.1.4)\n",
      "Requirement already satisfied: fsspec in /home/ailab/miniconda3/envs/deepspeed-allen/lib/python3.9/site-packages (from torch->deepspeed) (2024.5.0)\n",
      "Requirement already satisfied: MarkupSafe>=2.0 in /home/ailab/miniconda3/envs/deepspeed-allen/lib/python3.9/site-packages (from jinja2->torch->deepspeed) (2.1.3)\n",
      "Requirement already satisfied: mpmath>=0.19 in /home/ailab/miniconda3/envs/deepspeed-allen/lib/python3.9/site-packages (from sympy->torch->deepspeed) (1.3.0)\n",
      "Note: you may need to restart the kernel to use updated packages.\n"
     ]
    }
   ],
   "source": [
    "%pip install deepspeed"
   ]
  },
  {
   "cell_type": "markdown",
   "metadata": {},
   "source": [
    "確認安裝"
   ]
  },
  {
   "cell_type": "code",
   "execution_count": null,
   "metadata": {},
   "outputs": [],
   "source": [
    "!ds_report"
   ]
  },
  {
   "cell_type": "markdown",
   "metadata": {},
   "source": [
    "會有的[WARNING] 不用管他<br>\n",
    "<span style=\"color: yellow;\"> [WARNING] </span> Please specify the CUTLASS repo directory as environment variable $CUTLASS_PATH<br>\n",
    "<span style=\"color: yellow;\"> [WARNING] </span> sparse_attn requires a torch version >= 1.5 and < 2.0 but detected 2.3<br>\n",
    "<span style=\"color: yellow;\"> [WARNING] </span> using untested triton version (2.3.1), only 1.0.0 is known to be compatible"
   ]
  },
  {
   "cell_type": "markdown",
   "metadata": {},
   "source": [
    "## 安裝需要的packegs"
   ]
  },
  {
   "cell_type": "code",
   "execution_count": null,
   "metadata": {},
   "outputs": [],
   "source": [
    "%pip install transformers datasets"
   ]
  },
  {
   "cell_type": "markdown",
   "metadata": {},
   "source": [
    "## 執行"
   ]
  },
  {
   "cell_type": "markdown",
   "metadata": {},
   "source": [
    "--num_gpus 顯卡數量 <br>\n",
    "--config deepspeed config 設定檔位置"
   ]
  },
  {
   "cell_type": "code",
   "execution_count": null,
   "metadata": {},
   "outputs": [],
   "source": [
    "!ds --num_gpus 2 train_model_ds.py --config deepspeed_config.json"
   ]
  }
 ],
 "metadata": {
  "kernelspec": {
   "display_name": "deepspeed-allen",
   "language": "python",
   "name": "python3"
  },
  "language_info": {
   "codemirror_mode": {
    "name": "ipython",
    "version": 3
   },
   "file_extension": ".py",
   "mimetype": "text/x-python",
   "name": "python",
   "nbconvert_exporter": "python",
   "pygments_lexer": "ipython3",
   "version": "3.9.19"
  }
 },
 "nbformat": 4,
 "nbformat_minor": 2
}
